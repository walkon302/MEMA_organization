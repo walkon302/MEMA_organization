{
 "cells": [
  {
   "cell_type": "code",
   "execution_count": 15,
   "metadata": {},
   "outputs": [],
   "source": [
    "import glob\n",
    "import os\n",
    "import numpy as np\n",
    "import cv2\n",
    "from PIL import Image\n",
    "from matplotlib import pyplot as plt\n",
    "import math\n",
    "%matplotlib inline"
   ]
  },
  {
   "cell_type": "code",
   "execution_count": 25,
   "metadata": {},
   "outputs": [],
   "source": [
    "class ImagePreprocess(object):\n",
    "    \n",
    "    @staticmethod\n",
    "    def image_bw(image_folder_path, \n",
    "                 new_image_folder, \n",
    "                 file_type='png'):\n",
    "        \"\"\"\n",
    "        Load old RGB image and convert it to black and white.\n",
    "        \"\"\"\n",
    "        directory = '{}/{}'.format(os.path.dirname(image_folder_path), new_image_folder)\n",
    "        if not os.path.exists(directory):\n",
    "            os.makedirs(directory)\n",
    "        \n",
    "        filelist = glob.glob('{}/*.{}'.format(image_folder_path, file_type))\n",
    "        \n",
    "        for file_name in filelist:\n",
    "            im = Image.open(file_name)\n",
    "            im_bw = im.convert('1')\n",
    "            im_bw.save('{}/bw_{}'.format(directory, os.path.basename(file_name)), file_type)\n",
    "    \n",
    "    @staticmethod        \n",
    "    def image_resize(image_folder_path,\n",
    "                     new_image_folder,\n",
    "                     canvas_size=300,\n",
    "                     file_type='png'):\n",
    "        \"\"\"\n",
    "        Place one image on another image.\n",
    "\n",
    "        Resize the canvas of old_image_path and store the new image in\n",
    "        new_image_path. Center the image on the new canvas.\n",
    "        \"\"\"\n",
    "        \n",
    "        directory = '{}/{}'.format(os.path.dirname(image_folder_path), new_image_folder)\n",
    "        if not os.path.exists(directory):\n",
    "            os.makedirs(directory)\n",
    "        \n",
    "        filelist = glob.glob('{}/*.{}'.format(image_folder_path, file_type))\n",
    "        \n",
    "        for file_name in filelist:\n",
    "            im = Image.open(file_name)\n",
    "            canvas_size = max(canvas_size, im.size[0], im.size[1])\n",
    "        \n",
    "        for file_name in filelist:\n",
    "            im = Image.open(file_name)\n",
    "            old_width, old_height = im.size\n",
    "\n",
    "            # Center the image\n",
    "            x1 = int(math.floor((canvas_size - old_width) / 2))\n",
    "            y1 = int(math.floor((canvas_size - old_height) / 2))\n",
    "\n",
    "            mode = im.mode\n",
    "            if len(mode) == 1:  # L, 1\n",
    "                new_background = (0)\n",
    "            if len(mode) == 3:  # RGB\n",
    "                new_background = (0, 0, 0)\n",
    "            if len(mode) == 4:  # RGBA, CMYK\n",
    "                new_background = (0, 0, 0, 0)\n",
    "\n",
    "            new_image = Image.new(mode, (canvas_size, canvas_size), new_background)\n",
    "            new_image.paste(im, (x1, y1, x1 + old_width, y1 + old_height))\n",
    "            new_image.save('{}/resize_{}'.format(directory, os.path.basename(file_name)), file_type)"
   ]
  },
  {
   "cell_type": "code",
   "execution_count": 26,
   "metadata": {},
   "outputs": [
    {
     "data": {
      "text/plain": [
       "'/Users/Walkon302/Desktop/MEMA_data/organized'"
      ]
     },
     "execution_count": 26,
     "metadata": {},
     "output_type": "execute_result"
    }
   ],
   "source": [
    "t"
   ]
  },
  {
   "cell_type": "code",
   "execution_count": 28,
   "metadata": {},
   "outputs": [],
   "source": [
    "ImagePreprocess.image_resize(t, 'size_new', canvas_size=50)"
   ]
  },
  {
   "cell_type": "code",
   "execution_count": 3,
   "metadata": {},
   "outputs": [],
   "source": [
    "class ImageAugementation(object):\n",
    "    \n",
    "    @staticmethod\n",
    "    def image_to_array(image_file_list):\n",
    "        return np.array([cv2.imread(file_name, 0) for file_name in image_file_list])\n",
    "    \n",
    "    @staticmethod\n",
    "    def image_rotation(image_array, degree=90):\n",
    "        result = []\n",
    "        rows, cols = image_array[0].shape\n",
    "        for image in image_array:         \n",
    "            rotate_matrix = cv2.getRotationMatrix2D((cols/2, rows/2), degree ,1)\n",
    "            image_modified = cv2.warpAffine(image, rotate_matrix, (cols, rows))\n",
    "            result.append(image_modified)\n",
    "        return np.array(result)\n",
    "    \n",
    "    @staticmethod\n",
    "    def image_flip(image_array):\n",
    "        result = []\n",
    "        for image in image_array:\n",
    "            x_flip = cv2.flip(image, 0)\n",
    "            y_flip = cv2.flip(image, 1)\n",
    "            result.append(x_flip)\n",
    "            result.append(y_flip)\n",
    "        return np.array(result)\n",
    "    \n",
    "    @staticmethod\n",
    "    def image_augmentation(image_array):\n",
    "        flip = ImageAugementation.image_flip(image_array)\n",
    "        rotation = ImageAugementation.image_rotation(image_array)\n",
    "        return np.concatenate([image_array, flip, rotation])"
   ]
  },
  {
   "cell_type": "code",
   "execution_count": 4,
   "metadata": {},
   "outputs": [],
   "source": [
    "good_list = glob.glob('/Users/Walkon302/Desktop/MEMA_data/organized/*')\n",
    "bad_list = glob.glob('/Users/Walkon302/Desktop/MEMA_data/disorganized/*')\n",
    "good_array = ImageAugementation.image_to_array(good_list)\n",
    "bad_array = ImageAugementation.image_to_array(bad_list)\n",
    "good = ImageAugementation.image_augmentation(good_array)\n",
    "bad = ImageAugementation.image_augmentation(bad_array)"
   ]
  }
 ],
 "metadata": {
  "kernelspec": {
   "display_name": "Python 2",
   "language": "python",
   "name": "python2"
  },
  "language_info": {
   "codemirror_mode": {
    "name": "ipython",
    "version": 2
   },
   "file_extension": ".py",
   "mimetype": "text/x-python",
   "name": "python",
   "nbconvert_exporter": "python",
   "pygments_lexer": "ipython2",
   "version": "2.7.14"
  }
 },
 "nbformat": 4,
 "nbformat_minor": 2
}
