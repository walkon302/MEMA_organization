{
 "cells": [
  {
   "cell_type": "code",
   "execution_count": 1,
   "metadata": {},
   "outputs": [],
   "source": [
    "import glob\n",
    "import os\n",
    "import numpy as np\n",
    "import cv2\n",
    "from PIL import Image\n",
    "from matplotlib import pyplot as plt\n",
    "import math\n",
    "%matplotlib inline"
   ]
  },
  {
   "cell_type": "code",
   "execution_count": 4,
   "metadata": {},
   "outputs": [],
   "source": [
    "old_image_folder='ori_organized'\n",
    "new_image_folder='bw'\n",
    "file_type='png'"
   ]
  },
  {
   "cell_type": "code",
   "execution_count": 7,
   "metadata": {},
   "outputs": [],
   "source": [
    "curdir = os.path.dirname(os.getcwd())\n",
    "directory = '{}/input/{}_{}'.format(curdir,\n",
    "                                            new_image_folder,\n",
    "                                            old_image_folder)\n",
    "if not os.path.exists(directory):\n",
    "    os.makedirs(directory)\n",
    "\n",
    "filelist = glob.glob('{}/input/{}/*.{}'.format(curdir,\n",
    "                                               old_image_folder,\n",
    "                                               '*'))"
   ]
  },
  {
   "cell_type": "code",
   "execution_count": 8,
   "metadata": {},
   "outputs": [
    {
     "data": {
      "text/plain": [
       "['/Users/Walkon302/Desktop/MEMA_organization/input/ori_organized/PC3_M_DMSO_pHER2.jpg',\n",
       " '/Users/Walkon302/Desktop/MEMA_organization/input/ori_organized/PC3_M_Lap_ALL.jpg']"
      ]
     },
     "execution_count": 8,
     "metadata": {},
     "output_type": "execute_result"
    }
   ],
   "source": [
    "filelist"
   ]
  },
  {
   "cell_type": "code",
   "execution_count": 41,
   "metadata": {},
   "outputs": [],
   "source": [
    "class ImagePreprocess(object):\n",
    "\n",
    "    @staticmethod\n",
    "    def image_bw(old_image_folder='ori_organized',\n",
    "                 new_image_folder='bw',\n",
    "                 file_type='png'):\n",
    "\n",
    "        \"\"\"\n",
    "        Load old RGB image and convert it to black and white.\n",
    "        \"\"\"\n",
    "\n",
    "        curdir = os.path.dirname(os.getcwd())\n",
    "\n",
    "        directory = '{}/input/{}_{}'.format(curdir,\n",
    "                                            new_image_folder,\n",
    "                                            old_image_folder)\n",
    "        if not os.path.exists(directory):\n",
    "            os.makedirs(directory)\n",
    "\n",
    "        filelist = glob.glob('{}/input/{}/*.{}'.format(curdir,\n",
    "                                                       old_image_folder,\n",
    "                                                       file_type))\n",
    "\n",
    "        for file_name in filelist:\n",
    "            im = Image.open(file_name)\n",
    "            im_bw = im.convert('1')\n",
    "            im_bw.save('{}/bw_{}'.format(directory,\n",
    "                                         os.path.basename(file_name)),\n",
    "                                         file_type)\n",
    "\n",
    "    @staticmethod\n",
    "    def image_resize(old_image_folder='bw_ori_organized',\n",
    "                     new_image_folder='resize',\n",
    "                     canvas_size=300,\n",
    "                     file_type='png'):\n",
    "\n",
    "        \"\"\"\n",
    "        Place one image on another image.\n",
    "\n",
    "        Resize the canvas of old_image_path and store the new image in\n",
    "        new_image_path. Center the image on the new canvas.\n",
    "        \"\"\"\n",
    "\n",
    "        curdir = os.path.dirname(os.getcwd())\n",
    "\n",
    "        directory = '{}/input/{}_{}'.format(curdir,\n",
    "                                            new_image_folder,\n",
    "                                            old_image_folder)\n",
    "        if not os.path.exists(directory):\n",
    "            os.makedirs(directory)\n",
    "\n",
    "        filelist = glob.glob('{}/input/{}/*.{}'.format(curdir,\n",
    "                                                       old_image_folder,\n",
    "                                                       file_type))\n",
    "\n",
    "        for file_name in filelist:\n",
    "            im = Image.open(file_name)\n",
    "            canvas_size = max(canvas_size, im.size[0], im.size[1])\n",
    "\n",
    "        for file_name in filelist:\n",
    "            im = Image.open(file_name)\n",
    "            old_width, old_height = im.size\n",
    "\n",
    "            # Center the image\n",
    "            x1 = int(math.floor((canvas_size - old_width) / 2))\n",
    "            y1 = int(math.floor((canvas_size - old_height) / 2))\n",
    "\n",
    "            mode = im.mode\n",
    "            if len(mode) == 1:  # L, 1\n",
    "                new_background = (0)\n",
    "            if len(mode) == 3:  # RGB\n",
    "                new_background = (0, 0, 0)\n",
    "            if len(mode) == 4:  # RGBA, CMYK\n",
    "                new_background = (0, 0, 0, 0)\n",
    "\n",
    "            new_image = Image.new(mode,\n",
    "                                  (canvas_size, canvas_size),\n",
    "                                  new_background)\n",
    "            new_image.paste(im, (x1, y1, x1 + old_width, y1 + old_height))\n",
    "            new_image.save('{}/resize_{}'.format(directory,\n",
    "                                                 os.path.basename(file_name)),\n",
    "                                                 file_type)"
   ]
  },
  {
   "cell_type": "code",
   "execution_count": 20,
   "metadata": {},
   "outputs": [],
   "source": [
    "class ImageAugementation(object):\n",
    "\n",
    "    @staticmethod\n",
    "    def image_to_array(image_file_list):\n",
    "        return np.array([cv2.imread(file_name, 0)\n",
    "                        for file_name in image_file_list])\n",
    "\n",
    "    @staticmethod\n",
    "    def image_rotation(image_array, degree=90):\n",
    "        result = []\n",
    "        rows, cols = image_array[0].shape\n",
    "        for image in image_array:\n",
    "            r_m = cv2.getRotationMatrix2D((cols/2, rows/2),\n",
    "                                          degree ,1)\n",
    "            image_modified = cv2.warpAffine(image, r_m,\n",
    "                                            (cols, rows))\n",
    "            result.append(image_modified)\n",
    "        return np.array(result)\n",
    "\n",
    "    @staticmethod\n",
    "    def image_flip(image_array):\n",
    "        result = []\n",
    "        for image in image_array:\n",
    "            x_flip = cv2.flip(image, 0)\n",
    "            y_flip = cv2.flip(image, 1)\n",
    "            result.append(x_flip)\n",
    "            result.append(y_flip)\n",
    "        return np.array(result)\n",
    "\n",
    "    @staticmethod\n",
    "    def image_resize(image_array):\n",
    "        result = []\n",
    "        dim = (128, 128)\n",
    "        for image in image_array:\n",
    "            resized = cv2.resize(image, dim,\n",
    "                                 interpolation=cv2.INTER_AREA)\n",
    "            result.append(resized)\n",
    "        return np.array(result)\n",
    "\n",
    "    @staticmethod\n",
    "    def image_augmentation(image_array):\n",
    "        flip = ImageAugementation.image_flip(image_array)\n",
    "        rotation = ImageAugementation.image_rotation(image_array)\n",
    "        return np.concatenate([image_array, flip, rotation])"
   ]
  },
  {
   "cell_type": "code",
   "execution_count": 56,
   "metadata": {},
   "outputs": [],
   "source": [
    "class DataPreProcess(object):\n",
    "\n",
    "    @staticmethod\n",
    "    def data_prepared(folder):\n",
    "\n",
    "        cur_path = '{}/input'.format(os.path.dirname(os.getcwd()))\n",
    "\n",
    "        work_path = '{}/{}'.format(cur_path, folder)\n",
    "\n",
    "        file_list = glob.glob('{}/*'.format(work_path))\n",
    "        \n",
    "        image_array = ImageAugementation.image_to_array(file_list)\n",
    "        \n",
    "        image_array_aug = ImageAugementation.image_augmentation(image_array)\n",
    "\n",
    "        image_array_aug_resize = ImageAugementation.image_resize(image_array_aug)\n",
    "\n",
    "        return image_array_aug_resize\n",
    "\n",
    "    @staticmethod\n",
    "    def preprocess(np_array):\n",
    "        np_array = np.array(np_array/255., dtype = 'float32')\n",
    "        np_array = np_array.reshape([len(np_array),\n",
    "                                    np_array.shape[1]*np_array.shape[2]])\n",
    "        return np_array\n",
    "\n",
    "    @staticmethod\n",
    "    def data_generate(pos, neg, n):\n",
    "        final = min(len(pos), len(neg))\n",
    "        train_sample = np.concatenate([pos[0:n], neg[0:n]])\n",
    "        eval_sample = np.concatenate([pos[n:final], neg[n:final]])\n",
    "        train_label = np.concatenate([np.repeat(0, n), np.repeat(1, n)])\n",
    "        eval_label = np.concatenate(\n",
    "        [np.repeat(0, final-n), np.repeat(1, final-n)]\n",
    "        )\n",
    "\n",
    "        train_sample, train_label = shuffle(train_sample,\n",
    "                                            train_label,\n",
    "                                            random_state=0)\n",
    "        eval_sample, eval_label = shuffle(eval_sample,\n",
    "                                          eval_label,\n",
    "                                          random_state=0)\n",
    "\n",
    "        return train_sample, train_label, eval_sample, eval_label\n",
    "    \n",
    "    @staticmethod\n",
    "    def predict_prep(folder='predict'):\n",
    "        \n",
    "        ImagePreprocess.image_bw(old_image_folder=folder)\n",
    "        ImagePreprocess.image_resize(old_image_folder='bw_predict')\n",
    "        \n",
    "        cur_path = '{}/input'.format(os.path.dirname(os.getcwd()))\n",
    "        work_path = '{}/{}'.format(cur_path, 'resize_bw_predict')\n",
    "        file_list = glob.glob('{}/*'.format(work_path))\n",
    "        image_array = ImageAugementation.image_to_array(file_list)\n",
    "        image_array_resize = ImageAugementation.image_resize(image_array)\n",
    "\n",
    "        file_name = []\n",
    "        for f in file_list:\n",
    "            file_name.append(os.path.basename(f))\n",
    "        file_name = np.array(file_name)\n",
    "        return image_array_resize, file_name"
   ]
  },
  {
   "cell_type": "code",
   "execution_count": 57,
   "metadata": {},
   "outputs": [],
   "source": [
    "pred_array, pred_file = DataPreProcess.predict_prep('predict')"
   ]
  },
  {
   "cell_type": "code",
   "execution_count": 61,
   "metadata": {},
   "outputs": [
    {
     "data": {
      "text/plain": [
       "array([[[0, 0, 0, ..., 0, 0, 0],\n",
       "        [0, 0, 0, ..., 0, 0, 0],\n",
       "        [0, 0, 0, ..., 0, 0, 0],\n",
       "        ...,\n",
       "        [0, 0, 0, ..., 0, 0, 0],\n",
       "        [0, 0, 0, ..., 0, 0, 0],\n",
       "        [0, 0, 0, ..., 0, 0, 0]],\n",
       "\n",
       "       [[0, 0, 0, ..., 0, 0, 0],\n",
       "        [0, 0, 0, ..., 0, 0, 0],\n",
       "        [0, 0, 0, ..., 0, 0, 0],\n",
       "        ...,\n",
       "        [0, 0, 0, ..., 0, 0, 0],\n",
       "        [0, 0, 0, ..., 0, 0, 0],\n",
       "        [0, 0, 0, ..., 0, 0, 0]],\n",
       "\n",
       "       [[0, 0, 0, ..., 0, 0, 0],\n",
       "        [0, 0, 0, ..., 0, 0, 0],\n",
       "        [0, 0, 0, ..., 0, 0, 0],\n",
       "        ...,\n",
       "        [0, 0, 0, ..., 0, 0, 0],\n",
       "        [0, 0, 0, ..., 0, 0, 0],\n",
       "        [0, 0, 0, ..., 0, 0, 0]],\n",
       "\n",
       "       ...,\n",
       "\n",
       "       [[0, 0, 0, ..., 0, 0, 0],\n",
       "        [0, 0, 0, ..., 0, 0, 0],\n",
       "        [0, 0, 0, ..., 0, 0, 0],\n",
       "        ...,\n",
       "        [0, 0, 0, ..., 0, 0, 0],\n",
       "        [0, 0, 0, ..., 0, 0, 0],\n",
       "        [0, 0, 0, ..., 0, 0, 0]],\n",
       "\n",
       "       [[0, 0, 0, ..., 0, 0, 0],\n",
       "        [0, 0, 0, ..., 0, 0, 0],\n",
       "        [0, 0, 0, ..., 0, 0, 0],\n",
       "        ...,\n",
       "        [0, 0, 0, ..., 0, 0, 0],\n",
       "        [0, 0, 0, ..., 0, 0, 0],\n",
       "        [0, 0, 0, ..., 0, 0, 0]],\n",
       "\n",
       "       [[0, 0, 0, ..., 0, 0, 0],\n",
       "        [0, 0, 0, ..., 0, 0, 0],\n",
       "        [0, 0, 0, ..., 0, 0, 0],\n",
       "        ...,\n",
       "        [0, 0, 0, ..., 0, 0, 0],\n",
       "        [0, 0, 0, ..., 0, 0, 0],\n",
       "        [0, 0, 0, ..., 0, 0, 0]]], dtype=uint8)"
      ]
     },
     "execution_count": 61,
     "metadata": {},
     "output_type": "execute_result"
    }
   ],
   "source": [
    "pred_array"
   ]
  },
  {
   "cell_type": "code",
   "execution_count": 44,
   "metadata": {},
   "outputs": [],
   "source": [
    "ImagePreprocess.image_bw(old_image_folder='predict')\n",
    "ImagePreprocess.image_resize(old_image_folder='bw_predict')"
   ]
  },
  {
   "cell_type": "code",
   "execution_count": 54,
   "metadata": {},
   "outputs": [],
   "source": [
    "cur_path = '{}/input'.format(os.path.dirname(os.getcwd()))\n",
    "work_path = '{}/{}'.format(cur_path, 'resize_bw_predict')\n",
    "file_list = glob.glob('{}/*'.format(work_path))\n",
    "image_array = ImageAugementation.image_to_array(file_list)\n",
    "image_array_resize = ImageAugementation.image_resize(image_array)\n",
    "\n",
    "\n",
    "file_name = []\n",
    "for f in file_list:\n",
    "    file_name.append(os.path.basename(f))\n",
    "file_name = np.array(file_name)\n",
    "\n",
    "np.save('pred_array', image_array_resize)\n",
    "np.save('pred_file', file_name)"
   ]
  },
  {
   "cell_type": "code",
   "execution_count": 29,
   "metadata": {},
   "outputs": [],
   "source": [
    "good_list = glob.glob('/Users/Walkon302/Desktop/MEMA_data/organized/*')\n",
    "bad_list = glob.glob('/Users/Walkon302/Desktop/MEMA_data/disorganized/*')\n",
    "good_array = ImageAugementation.image_to_array(good_list)\n",
    "bad_array = ImageAugementation.image_to_array(bad_list)\n",
    "good = ImageAugementation.image_augmentation(good_array)\n",
    "bad = ImageAugementation.image_augmentation(bad_array)\n",
    "good_re = ImageAugementation.image_resize(good)\n",
    "bad_re = ImageAugementation.image_resize(bad)"
   ]
  },
  {
   "cell_type": "code",
   "execution_count": 44,
   "metadata": {},
   "outputs": [],
   "source": [
    "np.save('good_re', good_re)\n",
    "np.save('bad_re', bad_re)"
   ]
  },
  {
   "cell_type": "code",
   "execution_count": 26,
   "metadata": {},
   "outputs": [],
   "source": [
    "good_re = ImageAugementation.image_resize(good)"
   ]
  },
  {
   "cell_type": "code",
   "execution_count": 28,
   "metadata": {},
   "outputs": [
    {
     "data": {
      "text/plain": [
       "<matplotlib.image.AxesImage at 0x1222ea0d0>"
      ]
     },
     "execution_count": 28,
     "metadata": {},
     "output_type": "execute_result"
    },
    {
     "data": {
      "image/png": "[encoded data removed]",
      "text/plain": [
       "<matplotlib.figure.Figure at 0x12073aa10>"
      ]
     },
     "metadata": {},
     "output_type": "display_data"
    }
   ],
   "source": [
    "plt.imshow(good_re[0], cmap='Greys')"
   ]
  },
  {
   "cell_type": "code",
   "execution_count": 51,
   "metadata": {},
   "outputs": [],
   "source": [
    "dim = (32, 32)\n",
    " \n",
    "# perform the actual resizing of the image and show it\n",
    "resized = cv2.resize(a[0], dim, interpolation = cv2.INTER_AREA)"
   ]
  },
  {
   "cell_type": "code",
   "execution_count": 52,
   "metadata": {},
   "outputs": [
    {
     "data": {
      "text/plain": [
       "<matplotlib.image.AxesImage at 0x122457710>"
      ]
     },
     "execution_count": 52,
     "metadata": {},
     "output_type": "execute_result"
    },
    {
     "data": {
      "image/png": "[encoded data removed]",
      "text/plain": [
       "<matplotlib.figure.Figure at 0x1205953d0>"
      ]
     },
     "metadata": {},
     "output_type": "display_data"
    }
   ],
   "source": [
    "plt.imshow(a[0], cmap='Greys')"
   ]
  },
  {
   "cell_type": "code",
   "execution_count": 53,
   "metadata": {},
   "outputs": [
    {
     "data": {
      "text/plain": [
       "<matplotlib.image.AxesImage at 0x124dfa890>"
      ]
     },
     "execution_count": 53,
     "metadata": {},
     "output_type": "execute_result"
    },
    {
     "data": {
      "image/png": "[encoded data removed]",
      "text/plain": [
       "<matplotlib.figure.Figure at 0x124d2fc10>"
      ]
     },
     "metadata": {},
     "output_type": "display_data"
    }
   ],
   "source": [
    "plt.imshow(resized, cmap='Greys')"
   ]
  },
  {
   "cell_type": "code",
   "execution_count": 43,
   "metadata": {},
   "outputs": [
    {
     "data": {
      "text/plain": [
       "'/Users/Walkon302/Desktop'"
      ]
     },
     "execution_count": 43,
     "metadata": {},
     "output_type": "execute_result"
    }
   ],
   "source": [
    "os.path.dirname(os.getcwd())"
   ]
  },
  {
   "cell_type": "code",
   "execution_count": null,
   "metadata": {},
   "outputs": [],
   "source": []
  }
 ],
 "metadata": {
  "kernelspec": {
   "display_name": "Python 2",
   "language": "python",
   "name": "python2"
  },
  "language_info": {
   "codemirror_mode": {
    "name": "ipython",
    "version": 2
   },
   "file_extension": ".py",
   "mimetype": "text/x-python",
   "name": "python",
   "nbconvert_exporter": "python",
   "pygments_lexer": "ipython2",
   "version": "2.7.14"
  }
 },
 "nbformat": 4,
 "nbformat_minor": 2
}
