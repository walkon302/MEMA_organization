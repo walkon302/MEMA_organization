{
 "cells": [
  {
   "cell_type": "code",
   "execution_count": 1,
   "metadata": {},
   "outputs": [
    {
     "name": "stderr",
     "output_type": "stream",
     "text": [
      "/Users/Walkon302/anaconda2/envs/DS/lib/python2.7/site-packages/h5py/__init__.py:36: FutureWarning: Conversion of the second argument of issubdtype from `float` to `np.floating` is deprecated. In future, it will be treated as `np.float64 == np.dtype(float).type`.\n",
      "  from ._conv import register_converters as _register_converters\n"
     ]
    }
   ],
   "source": [
    "import numpy as np\n",
    "import tensorflow as tf\n",
    "from sklearn.utils import shuffle\n",
    "from matplotlib import pyplot as plt"
   ]
  },
  {
   "cell_type": "code",
   "execution_count": 2,
   "metadata": {},
   "outputs": [],
   "source": [
    "tf.logging.set_verbosity(tf.logging.INFO)"
   ]
  },
  {
   "cell_type": "markdown",
   "metadata": {},
   "source": [
    "### Data input"
   ]
  },
  {
   "cell_type": "code",
   "execution_count": 12,
   "metadata": {},
   "outputs": [],
   "source": [
    "def preprocess(np_array):\n",
    "    np_array = np.array(np_array/255., dtype = 'float32')\n",
    "    np_array = np_array.reshape([len(np_array), np_array.shape[1]*np_array.shape[2]])\n",
    "    return np_array\n",
    "\n",
    "def data_generate(pos, neg, n):\n",
    "    final = min(len(pos), len(neg))\n",
    "    train_sample = np.concatenate([pos[0:n], neg[0:n]])\n",
    "    eval_sample = np.concatenate([pos[n:final], neg[n:final]])\n",
    "    train_label = np.concatenate([np.repeat(0, n), np.repeat(1, n)])\n",
    "    eval_label = np.concatenate([np.repeat(0, final-n), np.repeat(1, final-n)])\n",
    "    \n",
    "    train_sample, train_label = shuffle(train_sample, train_label, random_state=0)\n",
    "    eval_sample, eval_label = shuffle(eval_sample, eval_label, random_state=0)\n",
    "    \n",
    "    return train_sample, train_label, eval_sample, eval_label"
   ]
  },
  {
   "cell_type": "code",
   "execution_count": 33,
   "metadata": {},
   "outputs": [
    {
     "data": {
      "text/plain": [
       "(204, 128, 128)"
      ]
     },
     "execution_count": 33,
     "metadata": {},
     "output_type": "execute_result"
    }
   ],
   "source": [
    "good.shape"
   ]
  },
  {
   "cell_type": "code",
   "execution_count": 36,
   "metadata": {},
   "outputs": [
    {
     "data": {
      "text/plain": [
       "(408, 128, 128)"
      ]
     },
     "execution_count": 36,
     "metadata": {},
     "output_type": "execute_result"
    }
   ],
   "source": [
    "np.concatenate([good, good]).shape"
   ]
  },
  {
   "cell_type": "code",
   "execution_count": 3,
   "metadata": {},
   "outputs": [],
   "source": [
    "good = np.load('good_re.npy')\n",
    "bad = np.load('bad_re.npy')"
   ]
  },
  {
   "cell_type": "markdown",
   "metadata": {},
   "source": [
    "### Set up logging for prediction"
   ]
  },
  {
   "cell_type": "code",
   "execution_count": 4,
   "metadata": {},
   "outputs": [],
   "source": [
    "tensors_to_log = {\"probabilities\": \"softmax_tensor\"}\n",
    "logging_hook = tf.train.LoggingTensorHook(tensors=tensors_to_log, every_n_iter=10)"
   ]
  },
  {
   "cell_type": "code",
   "execution_count": 13,
   "metadata": {},
   "outputs": [],
   "source": [
    "def train_eval_split(good, bad):\n",
    "    good_p = preprocess(good)\n",
    "    bad_p = preprocess(bad)\n",
    "    train_sample, train_label, eval_sample, eval_label = (\n",
    "    data_generate(good_p, bad_p, 150))\n",
    "    \n",
    "    return train_sample, train_label, eval_sample, eval_label"
   ]
  },
  {
   "cell_type": "markdown",
   "metadata": {},
   "source": [
    "### Build the model"
   ]
  },
  {
   "cell_type": "code",
   "execution_count": 6,
   "metadata": {},
   "outputs": [],
   "source": [
    "def cnn_model_fn(features, labels, mode):\n",
    "    \"\"\"Model function for CNN.\"\"\"\n",
    "  # Input Layer\n",
    "    input_layer = tf.reshape(features[\"x\"], [-1, 128, 128, 1])\n",
    "\n",
    "  # Convolutional Layer #1\n",
    "    conv1 = tf.layers.conv2d(\n",
    "      inputs=input_layer,\n",
    "      filters=32,\n",
    "      kernel_size=[5, 5],\n",
    "      padding=\"same\",\n",
    "      activation=tf.nn.relu)\n",
    "\n",
    "    # Pooling Layer #1\n",
    "    pool1 = tf.layers.max_pooling2d(inputs=conv1, pool_size=[2, 2], strides=2)\n",
    "\n",
    "    # Convolutional Layer #2 and Pooling Layer #2\n",
    "    conv2 = tf.layers.conv2d(\n",
    "      inputs=pool1,\n",
    "      filters=64,\n",
    "      kernel_size=[5, 5],\n",
    "      padding=\"same\",\n",
    "      activation=tf.nn.relu)\n",
    "    \n",
    "    pool2 = tf.layers.max_pooling2d(inputs=conv2, pool_size=[2, 2], strides=2)\n",
    "\n",
    "    # Dense Layer\n",
    "    pool2_flat = tf.reshape(pool2, [-1, 32 * 32 * 64])\n",
    "    dense = tf.layers.dense(inputs=pool2_flat, units=1024, activation=tf.nn.relu)\n",
    "    dropout = tf.layers.dropout(\n",
    "      inputs=dense, rate=0.4, training=mode == tf.estimator.ModeKeys.TRAIN)\n",
    "\n",
    "    # Logits Layer\n",
    "    logits = tf.layers.dense(inputs=dropout, units=2)\n",
    "\n",
    "    predictions = {\n",
    "      # Generate predictions (for PREDICT and EVAL mode)\n",
    "      \"classes\": tf.argmax(input=logits, axis=1),\n",
    "      # Add `softmax_tensor` to the graph. It is used for PREDICT and by the\n",
    "      # `logging_hook`.\n",
    "      \"probabilities\": tf.nn.softmax(logits, name=\"softmax_tensor\")\n",
    "    }\n",
    "\n",
    "    if mode == tf.estimator.ModeKeys.PREDICT:\n",
    "        return tf.estimator.EstimatorSpec(mode=mode, predictions=predictions)\n",
    "\n",
    "    # Calculate Loss (for both TRAIN and EVAL modes)\n",
    "    loss = tf.losses.sparse_softmax_cross_entropy(labels=labels, logits=logits)\n",
    "\n",
    "    # Configure the Training Op (for TRAIN mode)\n",
    "    if mode == tf.estimator.ModeKeys.TRAIN:\n",
    "        optimizer = tf.train.GradientDescentOptimizer(learning_rate=0.001)\n",
    "        train_op = optimizer.minimize(\n",
    "            loss=loss,\n",
    "            global_step=tf.train.get_global_step())\n",
    "        return tf.estimator.EstimatorSpec(mode=mode, loss=loss, train_op=train_op)\n",
    "\n",
    "    # Add evaluation metrics (for EVAL mode)\n",
    "    eval_metric_ops = {\n",
    "      \"accuracy\": tf.metrics.accuracy(\n",
    "          labels=labels, predictions=predictions[\"classes\"])}\n",
    "    return tf.estimator.EstimatorSpec(\n",
    "      mode=mode, loss=loss, eval_metric_ops=eval_metric_ops)"
   ]
  },
  {
   "cell_type": "code",
   "execution_count": 48,
   "metadata": {},
   "outputs": [],
   "source": [
    "def train_model(train_sample, train_label):\n",
    "    \n",
    "    mema_classifier = tf.estimator.Estimator(\n",
    "        model_fn=cnn_model_fn, \n",
    "        model_dir=\"/Users/Walkon302/Desktop/MEMA_organization/MEMA_model\")\n",
    "    \n",
    "    train_input_fn = tf.estimator.inputs.numpy_input_fn(\n",
    "        x={\"x\": train_sample},\n",
    "        y=train_label,\n",
    "        batch_size=1,\n",
    "        num_epochs=None,\n",
    "        shuffle=True)\n",
    "    \n",
    "    mema_classifier.train(\n",
    "        input_fn=train_input_fn,\n",
    "        steps=10,\n",
    "        hooks=[logging_hook])\n",
    "    \n",
    "    return mema_classifier\n",
    "\n",
    "def eval_model(eval_sample, eval_label, mema_classifier):\n",
    "    eval_input_fn = tf.estimator.inputs.numpy_input_fn(\n",
    "        x={\"x\": eval_sample},\n",
    "        y=eval_label,\n",
    "        num_epochs=1,\n",
    "        shuffle=False)\n",
    "    \n",
    "    return mema_classifier.evaluate(input_fn=eval_input_fn)\n",
    "\n",
    "def pred_model(pred_sample, mema_classifier):\n",
    "    pred_input_fn = tf.estimator.inputs.numpy_input_fn(\n",
    "        x={\"x\": pred_sample},\n",
    "        num_epochs=1,\n",
    "        shuffle=False)\n",
    "    \n",
    "    return mema_classifier.predict(input_fn=pred_input_fn)\n",
    "\n",
    "def prediction(prediction):\n",
    "    result = []\n",
    "    for pred in prediction:\n",
    "        if pred['classes'] == 0:\n",
    "            result.append('organized')\n",
    "        else:\n",
    "            result.append('disorganized')\n",
    "    return np.array(result)"
   ]
  },
  {
   "cell_type": "code",
   "execution_count": 14,
   "metadata": {},
   "outputs": [],
   "source": [
    "train_sample, train_label, eval_sample, eval_label = train_eval_split(good, bad)"
   ]
  },
  {
   "cell_type": "code",
   "execution_count": 49,
   "metadata": {},
   "outputs": [],
   "source": [
    "a = pred_model(eval_sample, mema_classifier)"
   ]
  },
  {
   "cell_type": "code",
   "execution_count": 50,
   "metadata": {},
   "outputs": [
    {
     "name": "stdout",
     "output_type": "stream",
     "text": [
      "INFO:tensorflow:Calling model_fn.\n",
      "INFO:tensorflow:Done calling model_fn.\n",
      "INFO:tensorflow:Graph was finalized.\n",
      "INFO:tensorflow:Restoring parameters from /Users/Walkon302/Desktop/MEMA_organization/MEMA_model/model.ckpt-10000\n",
      "INFO:tensorflow:Running local_init_op.\n",
      "INFO:tensorflow:Done running local_init_op.\n"
     ]
    },
    {
     "data": {
      "text/plain": [
       "array(['organized', 'organized', 'disorganized', 'organized', 'organized',\n",
       "       'organized', 'organized', 'organized', 'disorganized', 'organized',\n",
       "       'disorganized', 'organized', 'disorganized', 'disorganized',\n",
       "       'organized', 'organized', 'organized', 'organized', 'disorganized',\n",
       "       'organized', 'organized', 'disorganized', 'disorganized',\n",
       "       'disorganized', 'organized', 'organized', 'organized', 'organized',\n",
       "       'disorganized', 'organized', 'organized', 'disorganized',\n",
       "       'disorganized', 'organized', 'organized', 'disorganized',\n",
       "       'disorganized', 'organized', 'organized', 'disorganized',\n",
       "       'organized', 'disorganized', 'organized', 'organized', 'organized',\n",
       "       'organized', 'organized', 'organized', 'organized', 'organized',\n",
       "       'disorganized', 'organized', 'organized', 'disorganized',\n",
       "       'disorganized', 'disorganized', 'organized', 'organized',\n",
       "       'organized', 'organized', 'organized', 'organized', 'disorganized',\n",
       "       'organized', 'disorganized', 'disorganized', 'organized',\n",
       "       'organized', 'disorganized', 'disorganized', 'organized',\n",
       "       'organized', 'disorganized', 'organized', 'organized',\n",
       "       'disorganized'], dtype='|S12')"
      ]
     },
     "execution_count": 50,
     "metadata": {},
     "output_type": "execute_result"
    }
   ],
   "source": [
    "prediction(a)"
   ]
  },
  {
   "cell_type": "code",
   "execution_count": 15,
   "metadata": {},
   "outputs": [
    {
     "data": {
      "text/plain": [
       "(76, 16384)"
      ]
     },
     "execution_count": 15,
     "metadata": {},
     "output_type": "execute_result"
    }
   ],
   "source": [
    "eval_sample.shape"
   ]
  },
  {
   "cell_type": "code",
   "execution_count": 16,
   "metadata": {},
   "outputs": [
    {
     "name": "stdout",
     "output_type": "stream",
     "text": [
      "INFO:tensorflow:Using default config.\n",
      "INFO:tensorflow:Using config: {'_save_checkpoints_secs': 600, '_session_config': None, '_keep_checkpoint_max': 5, '_task_type': 'worker', '_global_id_in_cluster': 0, '_is_chief': True, '_cluster_spec': <tensorflow.python.training.server_lib.ClusterSpec object at 0x112f986d0>, '_evaluation_master': '', '_save_checkpoints_steps': None, '_keep_checkpoint_every_n_hours': 10000, '_service': None, '_num_ps_replicas': 0, '_tf_random_seed': None, '_master': '', '_num_worker_replicas': 1, '_task_id': 0, '_log_step_count_steps': 100, '_model_dir': '/Users/Walkon302/Desktop/MEMA_organization/MEMA_model', '_save_summary_steps': 100}\n"
     ]
    }
   ],
   "source": [
    "mema_classifier = tf.estimator.Estimator(\n",
    "        model_fn=cnn_model_fn, \n",
    "        model_dir=\"/Users/Walkon302/Desktop/MEMA_organization/MEMA_model\")"
   ]
  },
  {
   "cell_type": "code",
   "execution_count": 20,
   "metadata": {},
   "outputs": [
    {
     "name": "stdout",
     "output_type": "stream",
     "text": [
      "INFO:tensorflow:Calling model_fn.\n",
      "INFO:tensorflow:Done calling model_fn.\n",
      "INFO:tensorflow:Starting evaluation at 2018-05-08-19:56:47\n",
      "INFO:tensorflow:Graph was finalized.\n",
      "INFO:tensorflow:Restoring parameters from /Users/Walkon302/Desktop/MEMA_organization/MEMA_model/model.ckpt-10000\n",
      "INFO:tensorflow:Running local_init_op.\n",
      "INFO:tensorflow:Done running local_init_op.\n",
      "INFO:tensorflow:Finished evaluation at 2018-05-08-19:56:49\n",
      "INFO:tensorflow:Saving dict for global step 10000: accuracy = 0.6447368, global_step = 10000, loss = 1.7201972\n"
     ]
    }
   ],
   "source": [
    "result = eval_model(eval_sample, eval_label, mema_classifier)"
   ]
  },
  {
   "cell_type": "code",
   "execution_count": 20,
   "metadata": {},
   "outputs": [
    {
     "name": "stdout",
     "output_type": "stream",
     "text": [
      "{'loss': 0.7298716, 'global_step': 40, 'accuracy': 0.5}\n"
     ]
    }
   ],
   "source": [
    "print result"
   ]
  },
  {
   "cell_type": "markdown",
   "metadata": {},
   "source": [
    "### Build classifier"
   ]
  },
  {
   "cell_type": "code",
   "execution_count": 7,
   "metadata": {},
   "outputs": [
    {
     "name": "stdout",
     "output_type": "stream",
     "text": [
      "INFO:tensorflow:Using default config.\n",
      "INFO:tensorflow:Using config: {'_save_checkpoints_secs': 600, '_session_config': None, '_keep_checkpoint_max': 5, '_task_type': 'worker', '_global_id_in_cluster': 0, '_is_chief': True, '_cluster_spec': <tensorflow.python.training.server_lib.ClusterSpec object at 0x109d149d0>, '_evaluation_master': '', '_save_checkpoints_steps': None, '_keep_checkpoint_every_n_hours': 10000, '_service': None, '_num_ps_replicas': 0, '_tf_random_seed': None, '_master': '', '_num_worker_replicas': 1, '_task_id': 0, '_log_step_count_steps': 100, '_model_dir': '/Users/Walkon302/Desktop/MEMA_organization/MEMA_model', '_save_summary_steps': 100}\n"
     ]
    }
   ],
   "source": [
    "mnist_classifier = tf.estimator.Estimator(\n",
    "        model_fn=cnn_model_fn, model_dir=\"/Users/Walkon302/Desktop/MEMA_organization/MEMA_model\")"
   ]
  },
  {
   "cell_type": "markdown",
   "metadata": {},
   "source": [
    "### Train the model"
   ]
  },
  {
   "cell_type": "code",
   "execution_count": 8,
   "metadata": {},
   "outputs": [],
   "source": [
    "train_input_fn = tf.estimator.inputs.numpy_input_fn(\n",
    "        x={\"x\": train_sample},\n",
    "        y=train_label,\n",
    "        batch_size=1,\n",
    "        num_epochs=None,\n",
    "        shuffle=True)"
   ]
  },
  {
   "cell_type": "code",
   "execution_count": 9,
   "metadata": {},
   "outputs": [
    {
     "name": "stdout",
     "output_type": "stream",
     "text": [
      "INFO:tensorflow:Calling model_fn.\n",
      "INFO:tensorflow:Done calling model_fn.\n",
      "INFO:tensorflow:Create CheckpointSaverHook.\n",
      "INFO:tensorflow:Graph was finalized.\n",
      "INFO:tensorflow:Running local_init_op.\n",
      "INFO:tensorflow:Done running local_init_op.\n",
      "INFO:tensorflow:Saving checkpoints for 1 into /Users/Walkon302/Desktop/MEMA_organization/MEMA_model/model.ckpt.\n",
      "INFO:tensorflow:probabilities = [[0.50921214 0.49078783]]\n",
      "INFO:tensorflow:loss = 0.6748906, step = 1\n",
      "INFO:tensorflow:probabilities = [[0.5368708  0.46312922]] (3.323 sec)\n",
      "INFO:tensorflow:probabilities = [[0.5506976  0.44930246]] (2.855 sec)\n",
      "INFO:tensorflow:probabilities = [[0.5222935 0.4777065]] (3.270 sec)\n",
      "INFO:tensorflow:probabilities = [[0.5438075  0.45619252]] (3.459 sec)\n",
      "INFO:tensorflow:probabilities = [[0.5584224  0.44157758]] (2.843 sec)\n",
      "INFO:tensorflow:probabilities = [[0.6219086  0.37809137]] (2.770 sec)\n",
      "INFO:tensorflow:probabilities = [[0.48672754 0.5132725 ]] (2.679 sec)\n",
      "INFO:tensorflow:probabilities = [[0.54341894 0.45658103]] (2.266 sec)\n",
      "INFO:tensorflow:probabilities = [[0.47463953 0.52536047]] (2.201 sec)\n",
      "INFO:tensorflow:global_step/sec: 3.58486\n",
      "INFO:tensorflow:probabilities = [[0.5088396  0.49116033]] (2.232 sec)\n",
      "INFO:tensorflow:loss = 0.6756224, step = 101 (27.896 sec)\n",
      "INFO:tensorflow:probabilities = [[0.58113754 0.41886237]] (2.212 sec)\n",
      "INFO:tensorflow:probabilities = [[0.5542372  0.44576287]] (2.438 sec)\n",
      "INFO:tensorflow:probabilities = [[0.50845027 0.4915497 ]] (2.288 sec)\n",
      "INFO:tensorflow:probabilities = [[0.52539414 0.47460586]] (2.270 sec)\n",
      "INFO:tensorflow:probabilities = [[0.45092374 0.5490763 ]] (2.298 sec)\n",
      "INFO:tensorflow:probabilities = [[0.5271251  0.47287485]] (2.322 sec)\n",
      "INFO:tensorflow:probabilities = [[0.37011582 0.6298841 ]] (2.610 sec)\n",
      "INFO:tensorflow:probabilities = [[0.5017354  0.49826464]] (2.308 sec)\n",
      "INFO:tensorflow:probabilities = [[0.36627847 0.6337215 ]] (2.341 sec)\n",
      "INFO:tensorflow:global_step/sec: 4.2595\n",
      "INFO:tensorflow:probabilities = [[0.5568076 0.4431924]] (2.390 sec)\n",
      "INFO:tensorflow:loss = 0.8137513, step = 201 (23.477 sec)\n",
      "INFO:tensorflow:probabilities = [[0.46268687 0.53731304]] (2.272 sec)\n",
      "INFO:tensorflow:probabilities = [[0.6081402 0.3918598]] (2.239 sec)\n",
      "INFO:tensorflow:probabilities = [[0.4540033  0.54599667]] (2.675 sec)\n",
      "INFO:tensorflow:probabilities = [[0.38174155 0.6182585 ]] (2.502 sec)\n",
      "INFO:tensorflow:probabilities = [[0.5099776  0.49002245]] (2.645 sec)\n",
      "INFO:tensorflow:probabilities = [[0.5456618 0.4543382]] (2.902 sec)\n",
      "INFO:tensorflow:probabilities = [[0.44698453 0.5530155 ]] (2.514 sec)\n",
      "INFO:tensorflow:probabilities = [[0.36152413 0.63847584]] (2.176 sec)\n",
      "INFO:tensorflow:probabilities = [[0.48752886 0.5124712 ]] (2.224 sec)\n",
      "INFO:tensorflow:global_step/sec: 4.10971\n",
      "INFO:tensorflow:probabilities = [[0.59636027 0.40363973]] (2.183 sec)\n",
      "INFO:tensorflow:loss = 0.5169103, step = 301 (24.332 sec)\n",
      "INFO:tensorflow:probabilities = [[0.50014246 0.49985754]] (2.213 sec)\n",
      "INFO:tensorflow:probabilities = [[0.5020572  0.49794272]] (2.180 sec)\n",
      "INFO:tensorflow:probabilities = [[0.39747855 0.6025214 ]] (2.216 sec)\n",
      "INFO:tensorflow:probabilities = [[0.5771315 0.4228685]] (2.177 sec)\n",
      "INFO:tensorflow:probabilities = [[0.42791116 0.5720889 ]] (2.236 sec)\n",
      "INFO:tensorflow:probabilities = [[0.3043236 0.6956764]] (2.167 sec)\n",
      "INFO:tensorflow:probabilities = [[0.5724537  0.42754632]] (2.202 sec)\n",
      "INFO:tensorflow:probabilities = [[0.57626134 0.42373866]] (2.185 sec)\n",
      "INFO:tensorflow:probabilities = [[0.5612604  0.43873957]] (2.198 sec)\n",
      "INFO:tensorflow:global_step/sec: 4.54323\n",
      "INFO:tensorflow:probabilities = [[0.588853 0.411147]] (2.237 sec)\n",
      "INFO:tensorflow:loss = 0.5295787, step = 401 (22.011 sec)\n",
      "INFO:tensorflow:probabilities = [[0.57096505 0.42903498]] (2.197 sec)\n",
      "INFO:tensorflow:probabilities = [[0.43482572 0.5651743 ]] (2.534 sec)\n",
      "INFO:tensorflow:probabilities = [[0.659813   0.34018704]] (2.971 sec)\n",
      "INFO:tensorflow:probabilities = [[0.6019324  0.39806756]] (2.161 sec)\n",
      "INFO:tensorflow:probabilities = [[0.3811547  0.61884534]] (2.265 sec)\n",
      "INFO:tensorflow:probabilities = [[0.5568729  0.44312713]] (2.137 sec)\n",
      "INFO:tensorflow:probabilities = [[0.33859384 0.66140616]] (2.189 sec)\n",
      "INFO:tensorflow:probabilities = [[0.328335   0.67166495]] (2.180 sec)\n",
      "INFO:tensorflow:probabilities = [[0.69674504 0.30325502]] (2.163 sec)\n",
      "INFO:tensorflow:Saving checkpoints for 500 into /Users/Walkon302/Desktop/MEMA_organization/MEMA_model/model.ckpt.\n",
      "INFO:tensorflow:Loss for final step: 0.73982495.\n"
     ]
    },
    {
     "data": {
      "text/plain": [
       "<tensorflow.python.estimator.estimator.Estimator at 0x1215086d0>"
      ]
     },
     "execution_count": 9,
     "metadata": {},
     "output_type": "execute_result"
    }
   ],
   "source": [
    "mnist_classifier.train(\n",
    "    input_fn=train_input_fn,\n",
    "    steps=500,\n",
    "    hooks=[logging_hook])"
   ]
  },
  {
   "cell_type": "markdown",
   "metadata": {},
   "source": [
    "### Evaluate the model"
   ]
  },
  {
   "cell_type": "code",
   "execution_count": 10,
   "metadata": {},
   "outputs": [],
   "source": [
    "eval_input_fn = tf.estimator.inputs.numpy_input_fn(\n",
    "    x={\"x\": eval_sample},\n",
    "    y=eval_label,\n",
    "    num_epochs=1,\n",
    "    shuffle=False)"
   ]
  },
  {
   "cell_type": "code",
   "execution_count": 11,
   "metadata": {},
   "outputs": [
    {
     "name": "stdout",
     "output_type": "stream",
     "text": [
      "INFO:tensorflow:Calling model_fn.\n",
      "INFO:tensorflow:Done calling model_fn.\n",
      "INFO:tensorflow:Starting evaluation at 2018-05-07-22:07:43\n",
      "INFO:tensorflow:Graph was finalized.\n",
      "INFO:tensorflow:Restoring parameters from /Users/Walkon302/Desktop/MEMA_organization/MEMA_model/model.ckpt-500\n",
      "INFO:tensorflow:Running local_init_op.\n",
      "INFO:tensorflow:Done running local_init_op.\n",
      "INFO:tensorflow:Finished evaluation at 2018-05-07-22:07:47\n",
      "INFO:tensorflow:Saving dict for global step 500: accuracy = 0.56578946, global_step = 500, loss = 0.68387175\n"
     ]
    }
   ],
   "source": [
    "eval_results = mnist_classifier.evaluate(input_fn=eval_input_fn)"
   ]
  },
  {
   "cell_type": "code",
   "execution_count": 12,
   "metadata": {},
   "outputs": [
    {
     "name": "stdout",
     "output_type": "stream",
     "text": [
      "{'loss': 0.68387175, 'global_step': 500, 'accuracy': 0.56578946}\n"
     ]
    }
   ],
   "source": [
    "print(eval_results)"
   ]
  },
  {
   "cell_type": "code",
   "execution_count": 6,
   "metadata": {},
   "outputs": [],
   "source": []
  }
 ],
 "metadata": {
  "kernelspec": {
   "display_name": "Python 2",
   "language": "python",
   "name": "python2"
  },
  "language_info": {
   "codemirror_mode": {
    "name": "ipython",
    "version": 2
   },
   "file_extension": ".py",
   "mimetype": "text/x-python",
   "name": "python",
   "nbconvert_exporter": "python",
   "pygments_lexer": "ipython2",
   "version": "2.7.14"
  }
 },
 "nbformat": 4,
 "nbformat_minor": 2
}
