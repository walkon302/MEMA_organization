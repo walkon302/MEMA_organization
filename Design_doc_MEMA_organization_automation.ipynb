{
 "cells": [
  {
   "cell_type": "markdown",
   "metadata": {},
   "source": [
    "# Project: MEMA organization-pattern automation\n",
    "Authors: Chun-Han Lin, Tiina Jokela  \n",
    "Email: walkon302@gmail.com  \n",
    "Update: 4/23/2018  \n",
    "Update: 5/9/2018"
   ]
  },
  {
   "cell_type": "markdown",
   "metadata": {},
   "source": [
    "# Purpose and the use cases\n",
    "\n",
    "MEMA can be used to study impacts of microenvironment on many cellular responses, including cellular morphological changes, drug responses, and cellular organization. MEMA images are processed either by CellProfiler or Python and generate the spreadsheet containing all the measurements. While most of the measurements are single-cell level data, which can be analyzed directly; cellular organization patterns are multiple-cells level information, which cannot be readily included in the result of the MEMA images analysis. \n",
    "\n",
    "It takes time to manually classify the MEMA images to different organization patterns and label each image with either well-organized or disorganized. Thus, the goal of this project is to develope a method to automate the process of labeling images with organization patterns for facilitating further MEMA analysis.\n",
    "\n",
    "This automation can be intergrated into MEMA analysis pipeline or be used individually to access the cellular organization patterns in other experiments.\n",
    "\n",
    "### Use case 1: For the MEMA experiments\n",
    "After applying this method, the MEMA images are classified into different organization patterns. We can then use this information to study which microenvironmental components play important roles in cellular organization.\n",
    "\n",
    "### Use case 2: For other experiments\n",
    "After applying this method, we will be able to quicktly quantify the ratio of organization patterns in the experiment."
   ]
  },
  {
   "cell_type": "markdown",
   "metadata": {},
   "source": [
    "# Overview\n",
    "There are two major goals:\n",
    "1. Image classification:  \n",
    "Let users use trained model to do image classification.\n",
    "2. Model fine-tunning:  \n",
    "Let users to fine-tune the model for better results on different cell strains.\n",
    "\n",
    "### Image classification\n",
    "Once the model has been trained using well-defined images, the trained model can be used directly to classify organization patterns. This part of scripts will include the following functions:  \n",
    "\n",
    "Data Loading:  \n",
    "It takes one folder containing MEMA images, pre-processes them for prediction.  \n",
    "\n",
    "Prediction:  \n",
    "It predicts the labels for each image in the folder from the previous step.  \n",
    "\n",
    "Report:  \n",
    "It generates csv or spreadsheet for downstream analysis and a summary html report.\n",
    "\n",
    "### Model fine-tunning\n",
    "Since the model is trained by certain cell strains, and the organization patterns may vary accross different cell strains, the model need to have the flexibility to be fine-tunned by the images from the new cell strais to do better job on classification. This part of scripts will include the following functions:  \n",
    "\n",
    "Data loading:  \n",
    "It takes two folders, one with well-organized cell images, and another with disorganized cell images, preprocesses them for tuning the model.\n",
    "\n",
    "Fine-tunning:  \n",
    "It feeds the trained model with data from previous step to fine-tune the parameters of the model.\n",
    "\n",
    "Output the model and report:  \n",
    "It outputs the tunned-model for image classification and a summary html report with cross validation accuracy before and after model tunning."
   ]
  },
  {
   "cell_type": "markdown",
   "metadata": {},
   "source": [
    "# Plan and deliverable\n",
    "1. I will draft the scripts and use Jennifer's previous data to build a simple model. First goal is to build a working pipeline that Tiina can run locally without technical issues, including loading images, processing, and outputting a spreadsheet as well as html summary report. I aim to deliver this by next Friday (5/4)."
   ]
  },
  {
   "attachments": {},
   "cell_type": "markdown",
   "metadata": {},
   "source": [
    "# How to use\n",
    "\n",
    "* Open terminal, the following procedures are all in the terminal\n",
    "\n",
    "#### Type in the following commands in the terminal directly\n",
    "* install anaconda https://repo.anaconda.com/archive/Anaconda2-5.1.0-MacOSX-x86_64.pkg  \n",
    "-- install the anaconda  \n",
    "\n",
    "* conda create -n mema python=2.7 anaconda  \n",
    "-- create a new virtual environment called mema for running the script without altering the original system  \n",
    "\n",
    "* source activate mema  \n",
    "-- activate the virtual environment  \n",
    "\n",
    "* conda install -c https://conda.anaconda.org/menpo opencv3  \n",
    "-- install proper version of opencv  \n",
    "\n",
    "* pip install grpcio==1.9.1 https://storage.googleapis.com/tensorflow/mac/cpu/tensorflow-1.6.0-py2-none-any.whl  \n",
    "-- install proper version of tensorflow  \n",
    "\n",
    "#### Ready for using the script\n",
    "* https://github.com/walkon302/MEMA_organization/archive/master.zip  \n",
    "-- download the file and unzip it on the desktop. Rename it for a shorter name, e.g., 'mema' since the original name 'MEMA_organization-master' is too long. \n",
    "\n",
    "#### Type in the commands in the terminal directly\n",
    "* cd ./desktop/mema  \n",
    "-- enter the main folder of the script  \n",
    "\n",
    "* mkdir input  \n",
    "-- generate a folder named input  \n",
    "\n",
    "* cd input  \n",
    "-- enter the subfolder, input  \n",
    "\n",
    "* mkdir ori_organized  \n",
    "* mkdir ori_disorganized  \n",
    "* mkdir predict\n",
    "-- generate two folders, one is for organized, another one is for disorganized, the last one is for new images that need to be classified.  \n",
    "\n",
    "#### Then move images and model into this mema folder\n",
    "* Put images into ori_organized and ori_disorganized folders accordingly.  \n",
    "* Put the images that need to be classified into predict folder.  \n",
    "* Put MEMA_model into main folder, mema.  \n",
    "\n",
    "#### Type in the commands\n",
    "* cd..  \n",
    "-- go back to main folder, mema  \n",
    "\n",
    "* cd src  \n",
    "-- enter src folder  \n",
    "\n",
    "\n",
    "#### Ready to use, type in the commands.\n",
    "* python main.py train  \n",
    "-- Train the model with images from ori_organized and ori_disorganized folders  \n",
    "\n",
    "* python main.py eval  \n",
    "-- Evaluate the performace  \n",
    "\n",
    "* pyton main.py predict  \n",
    "-- Classify the images in the predict folder and output a output.csv file in the output folder.  "
   ]
  },
  {
   "cell_type": "markdown",
   "metadata": {},
   "source": [
    "# Future direction of modification\n",
    "#### Model can be improved. \n",
    "This version only use the model from tensorflow MNIST example. A pre-trained model or a well-built model can be used for better result.  \n",
    "#### Image augmentation can be improved.\n",
    "This version only utilize some of the technique to augment the training data. This can be expanded with more techniqes to generate more data that generalize the model better.\n",
    "#### Extensibility of the script.\n",
    "This version only takes two folders and it hides many arguments from users. A extensible version of this script can be made that takes arbituary number of folders as training sets and uses them for training the model and making the classification.\n",
    "#### Standalone version\n",
    "Pyinst"
   ]
  }
 ],
 "metadata": {
  "kernelspec": {
   "display_name": "Python 2",
   "language": "python",
   "name": "python2"
  },
  "language_info": {
   "codemirror_mode": {
    "name": "ipython",
    "version": 2
   },
   "file_extension": ".py",
   "mimetype": "text/x-python",
   "name": "python",
   "nbconvert_exporter": "python",
   "pygments_lexer": "ipython2",
   "version": "2.7.14"
  }
 },
 "nbformat": 4,
 "nbformat_minor": 2
}
