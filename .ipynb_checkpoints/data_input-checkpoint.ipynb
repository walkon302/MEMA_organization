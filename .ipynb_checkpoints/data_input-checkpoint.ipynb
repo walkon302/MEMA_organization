{
 "cells": [
  {
   "cell_type": "code",
   "execution_count": 1,
   "metadata": {},
   "outputs": [],
   "source": [
    "import glob\n",
    "import os\n",
    "from PIL import Image"
   ]
  },
  {
   "cell_type": "code",
   "execution_count": 33,
   "metadata": {},
   "outputs": [],
   "source": [
    "class MemaImageFolder(object):\n",
    "    \n",
    "    def __init__(self, image_folder_path):\n",
    "        self.image_folder_path = image_folder_path\n",
    "        \n",
    "    def image_bw(self, new_image_folder, file_type='png'):\n",
    "        \"\"\"\n",
    "        Load old RGB image and convert it to black and white.\n",
    "        \"\"\"\n",
    "        directory = '{}/{}'.format(os.path.dirname(self.image_folder_path), new_image_folder)\n",
    "        if not os.path.exists(directory):\n",
    "            os.makedirs(directory)\n",
    "        \n",
    "        filelist = glob.glob('{}/*.{}'.format(self.image_folder_path, file_type))\n",
    "        \n",
    "        for file_name in filelist:\n",
    "            im = Image.open(file_name)\n",
    "            im_bw = im.convert('1')\n",
    "            im_bw.save('{}/bw_{}'.format(directory, os.path.basename(file_name)), file_type)\n",
    "            \n",
    "    def image_resize(new_image_folder, canvas_width=300, canvas_height=300, file_type='png'):\n",
    "        \"\"\"\n",
    "        Place one image on another image.\n",
    "\n",
    "        Resize the canvas of old_image_path and store the new image in\n",
    "        new_image_path. Center the image on the new canvas.\n",
    "        \"\"\"\n",
    "        filelist = glob.glob('{}/*.{}'.format(self.image_folder_path, file_type))\n",
    "        \n",
    "        for file_name in filelist:\n",
    "            im = Image.open(file_name)\n",
    "            old_width, old_height = im.size\n",
    "\n",
    "            # Center the image\n",
    "            x1 = int(math.floor((canvas_width - old_width) / 2))\n",
    "            y1 = int(math.floor((canvas_height - old_height) / 2))\n",
    "\n",
    "            mode = im.mode\n",
    "            if len(mode) == 1:  # L, 1\n",
    "                new_background = (0)\n",
    "            if len(mode) == 3:  # RGB\n",
    "                new_background = (0, 0, 0)\n",
    "            if len(mode) == 4:  # RGBA, CMYK\n",
    "                new_background = (0, 0, 0, 0)\n",
    "\n",
    "            new_image = Image.new(mode, (canvas_width, canvas_height), new_background)\n",
    "            new_image.paste(im, (x1, y1, x1 + old_width, y1 + old_height))\n",
    "            new_image.save('{}/resize_{}'.format(directory, os.path.basename(file_name)), file_type)"
   ]
  },
  {
   "cell_type": "code",
   "execution_count": 34,
   "metadata": {},
   "outputs": [],
   "source": [
    "t = MemaImageFolder('/Users/Walkon302/Desktop/MEMA_data/original')"
   ]
  },
  {
   "cell_type": "code",
   "execution_count": 28,
   "metadata": {},
   "outputs": [],
   "source": [
    "t.image_bw('test2')"
   ]
  },
  {
   "cell_type": "code",
   "execution_count": null,
   "metadata": {},
   "outputs": [],
   "source": [
    "t.image_resize('')"
   ]
  },
  {
   "cell_type": "code",
   "execution_count": 53,
   "metadata": {},
   "outputs": [],
   "source": [
    "filename = os.path.basename(t.filelist[0])"
   ]
  },
  {
   "cell_type": "code",
   "execution_count": 54,
   "metadata": {},
   "outputs": [
    {
     "data": {
      "text/plain": [
       "'112R 48h-02.png'"
      ]
     },
     "execution_count": 54,
     "metadata": {},
     "output_type": "execute_result"
    }
   ],
   "source": [
    "filename"
   ]
  },
  {
   "cell_type": "code",
   "execution_count": 50,
   "metadata": {},
   "outputs": [],
   "source": [
    "file_type = 'png'"
   ]
  },
  {
   "cell_type": "code",
   "execution_count": 59,
   "metadata": {},
   "outputs": [],
   "source": [
    "im_bw.save('{}/_bw_{}'.format(directory, filename), 'PNG')"
   ]
  },
  {
   "cell_type": "code",
   "execution_count": 44,
   "metadata": {},
   "outputs": [
    {
     "data": {
      "text/plain": [
       "'/Users/Walkon302/Desktop/MEMA_data/original'"
      ]
     },
     "execution_count": 44,
     "metadata": {},
     "output_type": "execute_result"
    }
   ],
   "source": [
    "t.image_folder"
   ]
  },
  {
   "cell_type": "code",
   "execution_count": 62,
   "metadata": {},
   "outputs": [],
   "source": [
    "t.bw_image('/Users/Walkon302/Desktop/MEMA_data/test2')"
   ]
  },
  {
   "cell_type": "code",
   "execution_count": 24,
   "metadata": {},
   "outputs": [],
   "source": [
    "im = Image.open(t.filelist[0])"
   ]
  },
  {
   "cell_type": "code",
   "execution_count": 25,
   "metadata": {},
   "outputs": [],
   "source": [
    "im_bw = im.convert('1')"
   ]
  },
  {
   "cell_type": "code",
   "execution_count": 31,
   "metadata": {},
   "outputs": [],
   "source": [
    "directory = os.path.dirname('/Users/Walkon302/Desktop/MEMA_data/test/')\n",
    "if not os.path.exists(directory):\n",
    "    os.makedirs(directory)"
   ]
  },
  {
   "cell_type": "code",
   "execution_count": 33,
   "metadata": {},
   "outputs": [],
   "source": [
    "im_bw.save(directory+'1','PNG')"
   ]
  },
  {
   "cell_type": "code",
   "execution_count": null,
   "metadata": {},
   "outputs": [],
   "source": [
    "def bw_image(old_image_path, new_image_folder):\n",
    "    \"\"\"\n",
    "    Load old RGB image and convert it to black and white.\n",
    "    \"\"\"\n",
    "    im = Image.open(old_image_path)\n",
    "    im_bw = im.convert('1')\n",
    "    im_bw.save(new_image_folder + 'bw_' + old_image_path[9:])"
   ]
  }
 ],
 "metadata": {
  "kernelspec": {
   "display_name": "Python 2",
   "language": "python",
   "name": "python2"
  },
  "language_info": {
   "codemirror_mode": {
    "name": "ipython",
    "version": 2
   },
   "file_extension": ".py",
   "mimetype": "text/x-python",
   "name": "python",
   "nbconvert_exporter": "python",
   "pygments_lexer": "ipython2",
   "version": "2.7.14"
  }
 },
 "nbformat": 4,
 "nbformat_minor": 2
}
