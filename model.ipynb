{
 "cells": [
  {
   "cell_type": "code",
   "execution_count": 1,
   "metadata": {},
   "outputs": [
    {
     "name": "stderr",
     "output_type": "stream",
     "text": [
      "/Users/Walkon302/anaconda2/envs/DS/lib/python2.7/site-packages/h5py/__init__.py:36: FutureWarning: Conversion of the second argument of issubdtype from `float` to `np.floating` is deprecated. In future, it will be treated as `np.float64 == np.dtype(float).type`.\n",
      "  from ._conv import register_converters as _register_converters\n"
     ]
    }
   ],
   "source": [
    "from __future__ import absolute_import\n",
    "from __future__ import division\n",
    "from __future__ import print_function\n",
    "\n",
    "# Imports\n",
    "import numpy as np\n",
    "import tensorflow as tf\n",
    "from sklearn.utils import shuffle\n",
    "from matplotlib import pyplot as plt\n",
    "%matplotlib inline\n",
    "# Our application logic will be added here\n",
    "\n",
    "#if __name__ == \"__main__\":\n",
    "#  tf.app.run()"
   ]
  },
  {
   "cell_type": "code",
   "execution_count": 2,
   "metadata": {},
   "outputs": [],
   "source": [
    "tf.logging.set_verbosity(tf.logging.INFO)"
   ]
  },
  {
   "cell_type": "markdown",
   "metadata": {},
   "source": [
    "### Data input"
   ]
  },
  {
   "cell_type": "code",
   "execution_count": 3,
   "metadata": {},
   "outputs": [],
   "source": [
    "def preprocess(np_array):\n",
    "    np_array = np.array(np_array/255., dtype = 'float32')\n",
    "    np_array = np_array.reshape([len(np_array), np_array.shape[1]*np_array.shape[2]])\n",
    "    return np_array\n",
    "\n",
    "def data_generate(pos, neg, n):\n",
    "    final = min(len(pos), len(neg))\n",
    "    train_sample = np.concatenate([pos[0:n], neg[0:n]])\n",
    "    eval_sample = np.concatenate([pos[n:final], neg[n:final]])\n",
    "    train_label = np.concatenate([np.repeat(0, n), np.repeat(1, n)])\n",
    "    eval_label = np.concatenate([np.repeat(0, final-n), np.repeat(1, final-n)])\n",
    "    \n",
    "    train_sample, train_label = shuffle(train_sample, train_label, random_state=0)\n",
    "    eval_sample, eval_label = shuffle(eval_sample, eval_label, random_state=0)\n",
    "    \n",
    "    return train_sample, train_label, eval_sample, eval_label"
   ]
  },
  {
   "cell_type": "code",
   "execution_count": 4,
   "metadata": {},
   "outputs": [],
   "source": [
    "good = np.load('test.npy')\n",
    "bad = np.load('test_bad.npy')\n",
    "\n",
    "a = preprocess(good)\n",
    "b = preprocess(bad)\n",
    "c = data_generate(a, b, 100)\n",
    "train_sample, train_label, eval_sample, eval_label = data_generate(a, b, 150)"
   ]
  },
  {
   "cell_type": "markdown",
   "metadata": {},
   "source": [
    "### Set up logging for prediction"
   ]
  },
  {
   "cell_type": "code",
   "execution_count": 5,
   "metadata": {},
   "outputs": [],
   "source": [
    "tensors_to_log = {\"probabilities\": \"softmax_tensor\"}\n",
    "logging_hook = tf.train.LoggingTensorHook(tensors=tensors_to_log, every_n_iter=10)"
   ]
  },
  {
   "cell_type": "markdown",
   "metadata": {},
   "source": [
    "### Build the model"
   ]
  },
  {
   "cell_type": "code",
   "execution_count": 6,
   "metadata": {},
   "outputs": [],
   "source": [
    "def cnn_model_fn(features, labels, mode):\n",
    "    \"\"\"Model function for CNN.\"\"\"\n",
    "  # Input Layer\n",
    "    input_layer = tf.reshape(features[\"x\"], [-1, 300, 300, 1])\n",
    "\n",
    "  # Convolutional Layer #1\n",
    "    conv1 = tf.layers.conv2d(\n",
    "      inputs=input_layer,\n",
    "      filters=32,\n",
    "      kernel_size=[5, 5],\n",
    "      padding=\"same\",\n",
    "      activation=tf.nn.relu)\n",
    "\n",
    "    # Pooling Layer #1\n",
    "    pool1 = tf.layers.max_pooling2d(inputs=conv1, pool_size=[2, 2], strides=2)\n",
    "\n",
    "    # Convolutional Layer #2 and Pooling Layer #2\n",
    "    conv2 = tf.layers.conv2d(\n",
    "      inputs=pool1,\n",
    "      filters=64,\n",
    "      kernel_size=[5, 5],\n",
    "      padding=\"same\",\n",
    "      activation=tf.nn.relu)\n",
    "    \n",
    "    pool2 = tf.layers.max_pooling2d(inputs=conv2, pool_size=[2, 2], strides=2)\n",
    "\n",
    "    # Dense Layer\n",
    "    pool2_flat = tf.reshape(pool2, [-1, 75 * 75 * 64])\n",
    "    dense = tf.layers.dense(inputs=pool2_flat, units=1024, activation=tf.nn.relu)\n",
    "    dropout = tf.layers.dropout(\n",
    "      inputs=dense, rate=0.4, training=mode == tf.estimator.ModeKeys.TRAIN)\n",
    "\n",
    "    # Logits Layer\n",
    "    logits = tf.layers.dense(inputs=dropout, units=2)\n",
    "\n",
    "    predictions = {\n",
    "      # Generate predictions (for PREDICT and EVAL mode)\n",
    "      \"classes\": tf.argmax(input=logits, axis=1),\n",
    "      # Add `softmax_tensor` to the graph. It is used for PREDICT and by the\n",
    "      # `logging_hook`.\n",
    "      \"probabilities\": tf.nn.softmax(logits, name=\"softmax_tensor\")\n",
    "    }\n",
    "\n",
    "    if mode == tf.estimator.ModeKeys.PREDICT:\n",
    "        return tf.estimator.EstimatorSpec(mode=mode, predictions=predictions)\n",
    "\n",
    "    # Calculate Loss (for both TRAIN and EVAL modes)\n",
    "    loss = tf.losses.sparse_softmax_cross_entropy(labels=labels, logits=logits)\n",
    "\n",
    "    # Configure the Training Op (for TRAIN mode)\n",
    "    if mode == tf.estimator.ModeKeys.TRAIN:\n",
    "        optimizer = tf.train.GradientDescentOptimizer(learning_rate=0.001)\n",
    "        train_op = optimizer.minimize(\n",
    "            loss=loss,\n",
    "            global_step=tf.train.get_global_step())\n",
    "        return tf.estimator.EstimatorSpec(mode=mode, loss=loss, train_op=train_op)\n",
    "\n",
    "    # Add evaluation metrics (for EVAL mode)\n",
    "    eval_metric_ops = {\n",
    "      \"accuracy\": tf.metrics.accuracy(\n",
    "          labels=labels, predictions=predictions[\"classes\"])}\n",
    "    return tf.estimator.EstimatorSpec(\n",
    "      mode=mode, loss=loss, eval_metric_ops=eval_metric_ops)"
   ]
  },
  {
   "cell_type": "markdown",
   "metadata": {},
   "source": [
    "### Build classifier"
   ]
  },
  {
   "cell_type": "code",
   "execution_count": 7,
   "metadata": {},
   "outputs": [
    {
     "name": "stdout",
     "output_type": "stream",
     "text": [
      "INFO:tensorflow:Using default config.\n",
      "INFO:tensorflow:Using config: {'_save_checkpoints_secs': 600, '_session_config': None, '_keep_checkpoint_max': 5, '_task_type': 'worker', '_global_id_in_cluster': 0, '_is_chief': True, '_cluster_spec': <tensorflow.python.training.server_lib.ClusterSpec object at 0x10ecdf950>, '_evaluation_master': '', '_save_checkpoints_steps': None, '_keep_checkpoint_every_n_hours': 10000, '_service': None, '_num_ps_replicas': 0, '_tf_random_seed': None, '_master': '', '_num_worker_replicas': 1, '_task_id': 0, '_log_step_count_steps': 100, '_model_dir': '/Users/Walkon302/Desktop/MEMA_organization/MEMA_model', '_save_summary_steps': 100}\n"
     ]
    }
   ],
   "source": [
    "mnist_classifier = tf.estimator.Estimator(\n",
    "        model_fn=cnn_model_fn, model_dir=\"/Users/Walkon302/Desktop/MEMA_organization/MEMA_model\")"
   ]
  },
  {
   "cell_type": "markdown",
   "metadata": {},
   "source": [
    "### Train the model"
   ]
  },
  {
   "cell_type": "code",
   "execution_count": 8,
   "metadata": {},
   "outputs": [],
   "source": [
    "train_input_fn = tf.estimator.inputs.numpy_input_fn(\n",
    "        x={\"x\": train_sample},\n",
    "        y=train_label,\n",
    "        batch_size=1,\n",
    "        num_epochs=None,\n",
    "        shuffle=True)"
   ]
  },
  {
   "cell_type": "code",
   "execution_count": 15,
   "metadata": {},
   "outputs": [
    {
     "name": "stdout",
     "output_type": "stream",
     "text": [
      "INFO:tensorflow:Calling model_fn.\n",
      "INFO:tensorflow:Done calling model_fn.\n",
      "INFO:tensorflow:Create CheckpointSaverHook.\n",
      "INFO:tensorflow:Graph was finalized.\n",
      "INFO:tensorflow:Restoring parameters from /Users/Walkon302/Desktop/MEMA_organization/MEMA_model/model.ckpt-210\n",
      "INFO:tensorflow:Running local_init_op.\n",
      "INFO:tensorflow:Done running local_init_op.\n",
      "INFO:tensorflow:Saving checkpoints for 211 into /Users/Walkon302/Desktop/MEMA_organization/MEMA_model/model.ckpt.\n",
      "INFO:tensorflow:probabilities = [[0.23176113 0.7682389 ]]\n",
      "INFO:tensorflow:loss = 0.26365453, step = 211\n",
      "INFO:tensorflow:probabilities = [[0.41644284 0.5835572 ]] (12.554 sec)\n",
      "INFO:tensorflow:probabilities = [[0.6685339  0.33146605]] (14.221 sec)\n",
      "INFO:tensorflow:probabilities = [[0.75682396 0.243176  ]] (12.222 sec)\n",
      "INFO:tensorflow:probabilities = [[0.8352845  0.16471554]] (11.619 sec)\n",
      "INFO:tensorflow:probabilities = [[0.61202955 0.38797048]] (12.058 sec)\n",
      "INFO:tensorflow:probabilities = [[0.53122824 0.4687718 ]] (12.684 sec)\n",
      "INFO:tensorflow:probabilities = [[0.5201452  0.47985476]] (13.256 sec)\n",
      "INFO:tensorflow:probabilities = [[0.45751247 0.5424875 ]] (14.031 sec)\n",
      "INFO:tensorflow:probabilities = [[0.3506168 0.6493831]] (13.456 sec)\n",
      "INFO:tensorflow:global_step/sec: 0.782541\n",
      "INFO:tensorflow:probabilities = [[0.5175293  0.48247066]] (11.691 sec)\n",
      "INFO:tensorflow:loss = 0.6586891, step = 311 (127.792 sec)\n",
      "INFO:tensorflow:probabilities = [[0.25103813 0.74896187]] (12.519 sec)\n",
      "INFO:tensorflow:probabilities = [[0.8091809  0.19081907]] (12.720 sec)\n",
      "INFO:tensorflow:probabilities = [[0.72354144 0.2764585 ]] (11.671 sec)\n",
      "INFO:tensorflow:probabilities = [[0.17821744 0.8217826 ]] (11.652 sec)\n",
      "INFO:tensorflow:probabilities = [[0.80228627 0.19771373]] (11.666 sec)\n",
      "INFO:tensorflow:probabilities = [[0.64223933 0.35776064]] (12.574 sec)\n",
      "INFO:tensorflow:probabilities = [[0.591998   0.40800205]] (12.065 sec)\n",
      "INFO:tensorflow:probabilities = [[0.23390394 0.76609606]] (14.552 sec)\n",
      "INFO:tensorflow:probabilities = [[0.64290315 0.35709688]] (11.647 sec)\n",
      "INFO:tensorflow:global_step/sec: 0.804228\n",
      "INFO:tensorflow:probabilities = [[0.64719605 0.35280403]] (13.275 sec)\n",
      "INFO:tensorflow:loss = 1.0418425, step = 411 (124.342 sec)\n",
      "INFO:tensorflow:probabilities = [[0.4163927 0.5836073]] (12.440 sec)\n",
      "INFO:tensorflow:probabilities = [[0.67205614 0.3279439 ]] (12.371 sec)\n",
      "INFO:tensorflow:probabilities = [[0.17854162 0.82145834]] (12.703 sec)\n",
      "INFO:tensorflow:probabilities = [[0.50236726 0.49763268]] (13.778 sec)\n",
      "INFO:tensorflow:probabilities = [[0.45987558 0.5401244 ]] (13.147 sec)\n",
      "INFO:tensorflow:probabilities = [[0.33662567 0.66337436]] (13.502 sec)\n",
      "INFO:tensorflow:probabilities = [[0.6364671 0.3635329]] (13.577 sec)\n",
      "INFO:tensorflow:probabilities = [[0.14159948 0.85840046]] (13.109 sec)\n",
      "INFO:tensorflow:probabilities = [[0.30771053 0.6922895 ]] (13.782 sec)\n",
      "INFO:tensorflow:global_step/sec: 0.769191\n",
      "INFO:tensorflow:probabilities = [[0.5120143  0.48798564]] (11.598 sec)\n",
      "INFO:tensorflow:loss = 0.71746933, step = 511 (130.006 sec)\n",
      "INFO:tensorflow:probabilities = [[0.85223585 0.14776409]] (11.662 sec)\n",
      "INFO:tensorflow:probabilities = [[0.431454 0.568546]] (11.833 sec)\n",
      "INFO:tensorflow:probabilities = [[0.80318624 0.19681378]] (11.780 sec)\n",
      "INFO:tensorflow:probabilities = [[0.72747064 0.27252933]] (11.643 sec)\n",
      "INFO:tensorflow:probabilities = [[0.13377045 0.8662296 ]] (11.650 sec)\n",
      "INFO:tensorflow:probabilities = [[0.58003724 0.4199628 ]] (11.646 sec)\n",
      "INFO:tensorflow:probabilities = [[0.82477033 0.17522964]] (11.784 sec)\n",
      "INFO:tensorflow:probabilities = [[0.19802694 0.8019731 ]] (11.637 sec)\n",
      "INFO:tensorflow:probabilities = [[0.75745976 0.24254024]] (11.672 sec)\n",
      "INFO:tensorflow:global_step/sec: 0.854809\n",
      "INFO:tensorflow:probabilities = [[0.94109327 0.05890678]] (11.678 sec)\n",
      "INFO:tensorflow:loss = 0.06071303, step = 611 (116.985 sec)\n",
      "INFO:tensorflow:probabilities = [[0.72628504 0.27371496]] (11.607 sec)\n",
      "INFO:tensorflow:probabilities = [[0.6471449  0.35285506]] (11.614 sec)\n",
      "INFO:tensorflow:probabilities = [[0.7548578 0.2451422]] (11.680 sec)\n",
      "INFO:tensorflow:probabilities = [[0.12202284 0.87797713]] (11.555 sec)\n",
      "INFO:tensorflow:probabilities = [[0.8212074 0.1787926]] (11.535 sec)\n",
      "INFO:tensorflow:probabilities = [[0.50888413 0.4911159 ]] (11.579 sec)\n",
      "INFO:tensorflow:probabilities = [[0.3561101 0.6438899]] (11.564 sec)\n",
      "INFO:tensorflow:probabilities = [[0.84483993 0.15516014]] (11.573 sec)\n",
      "INFO:tensorflow:Saving checkpoints for 695 into /Users/Walkon302/Desktop/MEMA_organization/MEMA_model/model.ckpt.\n",
      "INFO:tensorflow:probabilities = [[0.8276124  0.17238764]] (16.245 sec)\n",
      "INFO:tensorflow:Saving checkpoints for 710 into /Users/Walkon302/Desktop/MEMA_organization/MEMA_model/model.ckpt.\n",
      "INFO:tensorflow:Loss for final step: 0.12984371.\n"
     ]
    },
    {
     "data": {
      "text/plain": [
       "<tensorflow.python.estimator.estimator.Estimator at 0x1264d4810>"
      ]
     },
     "execution_count": 15,
     "metadata": {},
     "output_type": "execute_result"
    }
   ],
   "source": [
    "mnist_classifier.train(\n",
    "    input_fn=train_input_fn,\n",
    "    steps=500,\n",
    "    hooks=[logging_hook])"
   ]
  },
  {
   "cell_type": "markdown",
   "metadata": {},
   "source": [
    "### Evaluate the model"
   ]
  },
  {
   "cell_type": "code",
   "execution_count": 10,
   "metadata": {},
   "outputs": [],
   "source": [
    "eval_input_fn = tf.estimator.inputs.numpy_input_fn(\n",
    "    x={\"x\": eval_sample},\n",
    "    y=eval_label,\n",
    "    num_epochs=1,\n",
    "    shuffle=False)"
   ]
  },
  {
   "cell_type": "code",
   "execution_count": 16,
   "metadata": {},
   "outputs": [
    {
     "name": "stdout",
     "output_type": "stream",
     "text": [
      "INFO:tensorflow:Calling model_fn.\n",
      "INFO:tensorflow:Done calling model_fn.\n",
      "INFO:tensorflow:Starting evaluation at 2018-05-07-19:28:22\n",
      "INFO:tensorflow:Graph was finalized.\n",
      "INFO:tensorflow:Restoring parameters from /Users/Walkon302/Desktop/MEMA_organization/MEMA_model/model.ckpt-710\n",
      "INFO:tensorflow:Running local_init_op.\n",
      "INFO:tensorflow:Done running local_init_op.\n",
      "INFO:tensorflow:Finished evaluation at 2018-05-07-19:28:41\n",
      "INFO:tensorflow:Saving dict for global step 710: accuracy = 0.68421054, global_step = 710, loss = 0.59245086\n"
     ]
    }
   ],
   "source": [
    "eval_results = mnist_classifier.evaluate(input_fn=eval_input_fn)"
   ]
  },
  {
   "cell_type": "code",
   "execution_count": 17,
   "metadata": {},
   "outputs": [
    {
     "name": "stdout",
     "output_type": "stream",
     "text": [
      "{'loss': 0.59245086, 'global_step': 710, 'accuracy': 0.68421054}\n"
     ]
    }
   ],
   "source": [
    "print(eval_results)"
   ]
  },
  {
   "cell_type": "code",
   "execution_count": null,
   "metadata": {},
   "outputs": [],
   "source": []
  }
 ],
 "metadata": {
  "kernelspec": {
   "display_name": "Python 2",
   "language": "python",
   "name": "python2"
  },
  "language_info": {
   "codemirror_mode": {
    "name": "ipython",
    "version": 2
   },
   "file_extension": ".py",
   "mimetype": "text/x-python",
   "name": "python",
   "nbconvert_exporter": "python",
   "pygments_lexer": "ipython2",
   "version": "2.7.14"
  }
 },
 "nbformat": 4,
 "nbformat_minor": 2
}
